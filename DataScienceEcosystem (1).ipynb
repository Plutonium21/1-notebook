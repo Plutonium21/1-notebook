{
 "cells": [
  {
   "cell_type": "markdown",
   "id": "66fefe31-0a70-4c26-82f3-1023fa919311",
   "metadata": {},
   "source": [
    "# Data Science Tools and Ecosystem"
   ]
  },
  {
   "cell_type": "markdown",
   "id": "49e74979-d23c-47e2-ac6e-978b58b09a95",
   "metadata": {},
   "source": [
    "In this notebook, Data Science Tools and Ecosystem are summarized."
   ]
  },
  {
   "cell_type": "markdown",
   "id": "4794237b-3267-4dcc-b672-c1fdce974b03",
   "metadata": {},
   "source": [
    "Some of the popular languages that Data Scientists use are:\n",
    "1) Python\n",
    "2) R\n",
    "3) C++\n",
    "4) Java\n",
    "5) Scala"
   ]
  },
  {
   "cell_type": "markdown",
   "id": "45a2b8fc-2382-4da0-91e1-948264f2fc99",
   "metadata": {},
   "source": [
    "Some of the commonly used libraries used by Data Scientists include:\n",
    "1) Pandas\n",
    "2) Numpy\n",
    "3) Pyplot\n",
    "4) ggplot2\n",
    "5) Scikit-learn\n",
    "6) "
   ]
  },
  {
   "cell_type": "markdown",
   "id": "3ac2b296-c381-4607-8a4e-8ae931d4ff05",
   "metadata": {},
   "source": [
    "|Data Science Tools|\n",
    "|------------------|\n",
    "|Jupyter|\n",
    "|RStudio|\n",
    "|Spyder|"
   ]
  },
  {
   "cell_type": "markdown",
   "id": "3f8b80df-781a-4ff7-8009-de9fc84fd8d8",
   "metadata": {},
   "source": [
    "### Below are a few examples of evaluating arithmetic expressions in Python"
   ]
  },
  {
   "cell_type": "code",
   "execution_count": 24,
   "id": "48cec1d1-535a-4226-a874-60c0673af4ff",
   "metadata": {},
   "outputs": [
    {
     "data": {
      "text/plain": [
       "17"
      ]
     },
     "execution_count": 24,
     "metadata": {},
     "output_type": "execute_result"
    }
   ],
   "source": [
    "(3*4)+5"
   ]
  },
  {
   "cell_type": "code",
   "execution_count": 25,
   "id": "f53710af-95e3-4470-ae5b-444e1b4f5baa",
   "metadata": {},
   "outputs": [
    {
     "data": {
      "text/plain": [
       "3.3333333333333335"
      ]
     },
     "execution_count": 25,
     "metadata": {},
     "output_type": "execute_result"
    }
   ],
   "source": [
    "200/60\n",
    "#This will convert 200 minutes to hours by diving by 60"
   ]
  },
  {
   "cell_type": "markdown",
   "id": "c78292e9-3197-4aa0-a172-abbeb35ec7de",
   "metadata": {},
   "source": [
    "# Objective:\n",
    "* Markdown in Jupyter\n",
    "* DS Languages\n",
    "* DS Libraries\n",
    "* DS Tools\n",
    "* Arithmetic expressions in Python"
   ]
  },
  {
   "cell_type": "markdown",
   "id": "35784fc6-ba09-4da5-aff1-5c291a2360e4",
   "metadata": {},
   "source": [
    "## Author:\n",
    "Pranshu"
   ]
  },
  {
   "cell_type": "code",
   "execution_count": null,
   "id": "5c7a683e-32ab-4311-b82d-129a9fcfd227",
   "metadata": {},
   "outputs": [],
   "source": []
  }
 ],
 "metadata": {
  "kernelspec": {
   "display_name": "Python 3 (ipykernel)",
   "language": "python",
   "name": "python3"
  },
  "language_info": {
   "codemirror_mode": {
    "name": "ipython",
    "version": 3
   },
   "file_extension": ".py",
   "mimetype": "text/x-python",
   "name": "python",
   "nbconvert_exporter": "python",
   "pygments_lexer": "ipython3",
   "version": "3.12.4"
  }
 },
 "nbformat": 4,
 "nbformat_minor": 5
}
